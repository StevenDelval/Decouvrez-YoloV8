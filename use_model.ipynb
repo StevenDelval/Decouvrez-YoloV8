{
 "cells": [
  {
   "cell_type": "code",
   "execution_count": 1,
   "metadata": {},
   "outputs": [],
   "source": [
    "from ultralytics import YOLO\n",
    "import numpy as np\n",
    "from PIL import Image\n",
    "from io import BytesIO\n",
    "import cv2\n",
    "import os"
   ]
  },
  {
   "cell_type": "code",
   "execution_count": 2,
   "metadata": {},
   "outputs": [],
   "source": [
    "model = YOLO('best.pt')"
   ]
  },
  {
   "cell_type": "code",
   "execution_count": 3,
   "metadata": {},
   "outputs": [
    {
     "data": {
      "text/plain": [
       "dict_items([(0, 'Insulator'), (1, 'airplane'), (2, 'apple'), (3, 'backpack'), (4, 'banana'), (5, 'baseball bat'), (6, 'baseball glove'), (7, 'bear'), (8, 'bed'), (9, 'bench'), (10, 'bicycle'), (11, 'bird'), (12, 'boat'), (13, 'book'), (14, 'bottle'), (15, 'bowl'), (16, 'broccoli'), (17, 'bus'), (18, 'cake'), (19, 'car'), (20, 'carrot'), (21, 'cat'), (22, 'cell phone'), (23, 'chair'), (24, 'clock'), (25, 'couch'), (26, 'cow'), (27, 'cup'), (28, 'dining table'), (29, 'dog'), (30, 'donut'), (31, 'elephant'), (32, 'fire hydrant'), (33, 'fork'), (34, 'frisbee'), (35, 'giraffe'), (36, 'hair drier'), (37, 'handbag'), (38, 'horse'), (39, 'hot dog'), (40, 'insulator'), (41, 'keyboard'), (42, 'kite'), (43, 'knife'), (44, 'laptop'), (45, 'microwave'), (46, 'motorcycle'), (47, 'mouse'), (48, 'nest'), (49, 'orange'), (50, 'oven'), (51, 'parking meter'), (52, 'person'), (53, 'pizza'), (54, 'potted plant'), (55, 'refrigerator'), (56, 'remote'), (57, 'sandwich'), (58, 'scissors'), (59, 'sheep'), (60, 'sink'), (61, 'skateboard'), (62, 'skis'), (63, 'snowboard'), (64, 'spoon'), (65, 'sports ball'), (66, 'stop sign'), (67, 'suitcase'), (68, 'surfboard'), (69, 'teddy bear'), (70, 'tennis racket'), (71, 'tie'), (72, 'toaster'), (73, 'toilet'), (74, 'toothbrush'), (75, 'traffic light'), (76, 'train'), (77, 'truck'), (78, 'tv'), (79, 'umbrella'), (80, 'vase'), (81, 'wine glass'), (82, 'zebra')])"
      ]
     },
     "execution_count": 3,
     "metadata": {},
     "output_type": "execute_result"
    }
   ],
   "source": [
    "model.names.items()"
   ]
  },
  {
   "cell_type": "code",
   "execution_count": 4,
   "metadata": {},
   "outputs": [],
   "source": [
    "img= \"https://images.pexels.com/photos/14056300/pexels-photo-14056300.jpeg\""
   ]
  },
  {
   "cell_type": "code",
   "execution_count": 5,
   "metadata": {},
   "outputs": [
    {
     "name": "stderr",
     "output_type": "stream",
     "text": [
      "2023-04-11 12:02:15.508061: I tensorflow/core/platform/cpu_feature_guard.cc:182] This TensorFlow binary is optimized to use available CPU instructions in performance-critical operations.\n",
      "To enable the following instructions: AVX2 FMA, in other operations, rebuild TensorFlow with the appropriate compiler flags.\n",
      "2023-04-11 12:02:16.582483: W tensorflow/compiler/tf2tensorrt/utils/py_utils.cc:38] TF-TRT Warning: Could not find TensorRT\n",
      "\n",
      "Found https://images.pexels.com/photos/14056300/pexels-photo-14056300.jpeg locally at pexels-photo-14056300.jpeg\n",
      "image 1/1 /home/apprenant/Bureau/Decouvrez-YoloV8/pexels-photo-14056300.jpeg: 640x448 17 birds, 1 car, 1 truck, 20.5ms\n",
      "Speed: 1.3ms preprocess, 20.5ms inference, 2.4ms postprocess per image at shape (1, 3, 640, 640)\n",
      "Results saved to \u001b[1mruns/detect/predict3\u001b[0m\n"
     ]
    }
   ],
   "source": [
    "result = model.predict(\n",
    "   source=img,\n",
    "   save=True,\n",
    "   classes = None\n",
    ")"
   ]
  },
  {
   "cell_type": "code",
   "execution_count": 6,
   "metadata": {},
   "outputs": [
    {
     "name": "stderr",
     "output_type": "stream",
     "text": [
      "/tmp/ipykernel_25541/1709933378.py:3: UserWarning: Matplotlib is currently using agg, which is a non-GUI backend, so cannot show the figure.\n",
      "  plt.show()\n"
     ]
    }
   ],
   "source": [
    "%matplotlib inline\n",
    "from matplotlib import pyplot as plt\n",
    "plt.imshow(result[0].orig_img)\n",
    "plt.show()\n"
   ]
  },
  {
   "cell_type": "code",
   "execution_count": 7,
   "metadata": {},
   "outputs": [
    {
     "name": "stderr",
     "output_type": "stream",
     "text": [
      "/tmp/ipykernel_25541/455004544.py:4: UserWarning: Matplotlib is currently using agg, which is a non-GUI backend, so cannot show the figure.\n",
      "  plt.show()\n"
     ]
    }
   ],
   "source": [
    "\n",
    "from matplotlib import pyplot as plt\n",
    "\n",
    "plt.imshow(result[0].plot())\n",
    "plt.show()"
   ]
  }
 ],
 "metadata": {
  "kernelspec": {
   "display_name": "yolo",
   "language": "python",
   "name": "python3"
  },
  "language_info": {
   "codemirror_mode": {
    "name": "ipython",
    "version": 3
   },
   "file_extension": ".py",
   "mimetype": "text/x-python",
   "name": "python",
   "nbconvert_exporter": "python",
   "pygments_lexer": "ipython3",
   "version": "3.10.10"
  },
  "orig_nbformat": 4
 },
 "nbformat": 4,
 "nbformat_minor": 2
}
