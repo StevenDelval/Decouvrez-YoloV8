{
  "cells": [
    {
      "cell_type": "code",
      "source": [
        "!pip install ultralytics\n",
        "!pip install roboflow"
      ],
      "metadata": {
        "colab": {
          "base_uri": "https://localhost:8080/",
          "height": 1000
        },
        "id": "UMO3I_cNPXbL",
        "outputId": "feda14d3-8b31-495b-dcce-02d88432e7d3"
      },
      "execution_count": 1,
      "outputs": [
        {
          "output_type": "stream",
          "name": "stdout",
          "text": [
            "Looking in indexes: https://pypi.org/simple, https://us-python.pkg.dev/colab-wheels/public/simple/\n",
            "Collecting ultralytics\n",
            "  Downloading ultralytics-8.0.73-py3-none-any.whl (509 kB)\n",
            "\u001b[2K     \u001b[90m━━━━━━━━━━━━━━━━━━━━━━━━━━━━━━━━━━━━━━━\u001b[0m \u001b[32m509.2/509.2 kB\u001b[0m \u001b[31m9.8 MB/s\u001b[0m eta \u001b[36m0:00:00\u001b[0m\n",
            "\u001b[?25hRequirement already satisfied: pandas>=1.1.4 in /usr/local/lib/python3.9/dist-packages (from ultralytics) (1.4.4)\n",
            "Collecting thop>=0.1.1\n",
            "  Downloading thop-0.1.1.post2209072238-py3-none-any.whl (15 kB)\n",
            "Requirement already satisfied: Pillow>=7.1.2 in /usr/local/lib/python3.9/dist-packages (from ultralytics) (8.4.0)\n",
            "Requirement already satisfied: scipy>=1.4.1 in /usr/local/lib/python3.9/dist-packages (from ultralytics) (1.10.1)\n",
            "Requirement already satisfied: tqdm>=4.64.0 in /usr/local/lib/python3.9/dist-packages (from ultralytics) (4.65.0)\n",
            "Requirement already satisfied: numpy>=1.21.6 in /usr/local/lib/python3.9/dist-packages (from ultralytics) (1.22.4)\n",
            "Requirement already satisfied: PyYAML>=5.3.1 in /usr/local/lib/python3.9/dist-packages (from ultralytics) (6.0)\n",
            "Requirement already satisfied: torch>=1.7.0 in /usr/local/lib/python3.9/dist-packages (from ultralytics) (2.0.0+cu118)\n",
            "Requirement already satisfied: seaborn>=0.11.0 in /usr/local/lib/python3.9/dist-packages (from ultralytics) (0.12.2)\n",
            "Requirement already satisfied: psutil in /usr/local/lib/python3.9/dist-packages (from ultralytics) (5.9.4)\n",
            "Requirement already satisfied: opencv-python>=4.6.0 in /usr/local/lib/python3.9/dist-packages (from ultralytics) (4.7.0.72)\n",
            "Requirement already satisfied: matplotlib>=3.2.2 in /usr/local/lib/python3.9/dist-packages (from ultralytics) (3.7.1)\n",
            "Requirement already satisfied: requests>=2.23.0 in /usr/local/lib/python3.9/dist-packages (from ultralytics) (2.27.1)\n",
            "Collecting sentry-sdk\n",
            "  Downloading sentry_sdk-1.19.1-py2.py3-none-any.whl (199 kB)\n",
            "\u001b[2K     \u001b[90m━━━━━━━━━━━━━━━━━━━━━━━━━━━━━━━━━━━━━━\u001b[0m \u001b[32m199.2/199.2 kB\u001b[0m \u001b[31m16.9 MB/s\u001b[0m eta \u001b[36m0:00:00\u001b[0m\n",
            "\u001b[?25hRequirement already satisfied: torchvision>=0.8.1 in /usr/local/lib/python3.9/dist-packages (from ultralytics) (0.15.1+cu118)\n",
            "Requirement already satisfied: cycler>=0.10 in /usr/local/lib/python3.9/dist-packages (from matplotlib>=3.2.2->ultralytics) (0.11.0)\n",
            "Requirement already satisfied: kiwisolver>=1.0.1 in /usr/local/lib/python3.9/dist-packages (from matplotlib>=3.2.2->ultralytics) (1.4.4)\n",
            "Requirement already satisfied: packaging>=20.0 in /usr/local/lib/python3.9/dist-packages (from matplotlib>=3.2.2->ultralytics) (23.0)\n",
            "Requirement already satisfied: contourpy>=1.0.1 in /usr/local/lib/python3.9/dist-packages (from matplotlib>=3.2.2->ultralytics) (1.0.7)\n",
            "Requirement already satisfied: importlib-resources>=3.2.0 in /usr/local/lib/python3.9/dist-packages (from matplotlib>=3.2.2->ultralytics) (5.12.0)\n",
            "Requirement already satisfied: pyparsing>=2.3.1 in /usr/local/lib/python3.9/dist-packages (from matplotlib>=3.2.2->ultralytics) (3.0.9)\n",
            "Requirement already satisfied: fonttools>=4.22.0 in /usr/local/lib/python3.9/dist-packages (from matplotlib>=3.2.2->ultralytics) (4.39.3)\n",
            "Requirement already satisfied: python-dateutil>=2.7 in /usr/local/lib/python3.9/dist-packages (from matplotlib>=3.2.2->ultralytics) (2.8.2)\n",
            "Requirement already satisfied: pytz>=2020.1 in /usr/local/lib/python3.9/dist-packages (from pandas>=1.1.4->ultralytics) (2022.7.1)\n",
            "Requirement already satisfied: idna<4,>=2.5 in /usr/local/lib/python3.9/dist-packages (from requests>=2.23.0->ultralytics) (3.4)\n",
            "Requirement already satisfied: urllib3<1.27,>=1.21.1 in /usr/local/lib/python3.9/dist-packages (from requests>=2.23.0->ultralytics) (1.26.15)\n",
            "Requirement already satisfied: charset-normalizer~=2.0.0 in /usr/local/lib/python3.9/dist-packages (from requests>=2.23.0->ultralytics) (2.0.12)\n",
            "Requirement already satisfied: certifi>=2017.4.17 in /usr/local/lib/python3.9/dist-packages (from requests>=2.23.0->ultralytics) (2022.12.7)\n",
            "Requirement already satisfied: typing-extensions in /usr/local/lib/python3.9/dist-packages (from torch>=1.7.0->ultralytics) (4.5.0)\n",
            "Requirement already satisfied: filelock in /usr/local/lib/python3.9/dist-packages (from torch>=1.7.0->ultralytics) (3.10.7)\n",
            "Requirement already satisfied: jinja2 in /usr/local/lib/python3.9/dist-packages (from torch>=1.7.0->ultralytics) (3.1.2)\n",
            "Requirement already satisfied: networkx in /usr/local/lib/python3.9/dist-packages (from torch>=1.7.0->ultralytics) (3.0)\n",
            "Requirement already satisfied: triton==2.0.0 in /usr/local/lib/python3.9/dist-packages (from torch>=1.7.0->ultralytics) (2.0.0)\n",
            "Requirement already satisfied: sympy in /usr/local/lib/python3.9/dist-packages (from torch>=1.7.0->ultralytics) (1.11.1)\n",
            "Requirement already satisfied: lit in /usr/local/lib/python3.9/dist-packages (from triton==2.0.0->torch>=1.7.0->ultralytics) (16.0.0)\n",
            "Requirement already satisfied: cmake in /usr/local/lib/python3.9/dist-packages (from triton==2.0.0->torch>=1.7.0->ultralytics) (3.25.2)\n",
            "Requirement already satisfied: zipp>=3.1.0 in /usr/local/lib/python3.9/dist-packages (from importlib-resources>=3.2.0->matplotlib>=3.2.2->ultralytics) (3.15.0)\n",
            "Requirement already satisfied: six>=1.5 in /usr/local/lib/python3.9/dist-packages (from python-dateutil>=2.7->matplotlib>=3.2.2->ultralytics) (1.16.0)\n",
            "Requirement already satisfied: MarkupSafe>=2.0 in /usr/local/lib/python3.9/dist-packages (from jinja2->torch>=1.7.0->ultralytics) (2.1.2)\n",
            "Requirement already satisfied: mpmath>=0.19 in /usr/local/lib/python3.9/dist-packages (from sympy->torch>=1.7.0->ultralytics) (1.3.0)\n",
            "Installing collected packages: sentry-sdk, thop, ultralytics\n",
            "Successfully installed sentry-sdk-1.19.1 thop-0.1.1.post2209072238 ultralytics-8.0.73\n",
            "Looking in indexes: https://pypi.org/simple, https://us-python.pkg.dev/colab-wheels/public/simple/\n",
            "Collecting roboflow\n",
            "  Downloading roboflow-1.0.3-py3-none-any.whl (55 kB)\n",
            "\u001b[2K     \u001b[90m━━━━━━━━━━━━━━━━━━━━━━━━━━━━━━━━━━━━━━━━\u001b[0m \u001b[32m55.8/55.8 kB\u001b[0m \u001b[31m2.7 MB/s\u001b[0m eta \u001b[36m0:00:00\u001b[0m\n",
            "\u001b[?25hCollecting requests-toolbelt\n",
            "  Downloading requests_toolbelt-0.10.1-py2.py3-none-any.whl (54 kB)\n",
            "\u001b[2K     \u001b[90m━━━━━━━━━━━━━━━━━━━━━━━━━━━━━━━━━━━━━━━━\u001b[0m \u001b[32m54.5/54.5 kB\u001b[0m \u001b[31m5.7 MB/s\u001b[0m eta \u001b[36m0:00:00\u001b[0m\n",
            "\u001b[?25hCollecting python-dotenv\n",
            "  Downloading python_dotenv-1.0.0-py3-none-any.whl (19 kB)\n",
            "Requirement already satisfied: PyYAML>=5.3.1 in /usr/local/lib/python3.9/dist-packages (from roboflow) (6.0)\n",
            "Requirement already satisfied: six in /usr/local/lib/python3.9/dist-packages (from roboflow) (1.16.0)\n",
            "Requirement already satisfied: python-dateutil in /usr/local/lib/python3.9/dist-packages (from roboflow) (2.8.2)\n",
            "Requirement already satisfied: numpy>=1.18.5 in /usr/local/lib/python3.9/dist-packages (from roboflow) (1.22.4)\n",
            "Requirement already satisfied: certifi==2022.12.7 in /usr/local/lib/python3.9/dist-packages (from roboflow) (2022.12.7)\n",
            "Collecting wget\n",
            "  Downloading wget-3.2.zip (10 kB)\n",
            "  Preparing metadata (setup.py) ... \u001b[?25l\u001b[?25hdone\n",
            "Collecting pyparsing==2.4.7\n",
            "  Downloading pyparsing-2.4.7-py2.py3-none-any.whl (67 kB)\n",
            "\u001b[2K     \u001b[90m━━━━━━━━━━━━━━━━━━━━━━━━━━━━━━━━━━━━━━━━\u001b[0m \u001b[32m67.8/67.8 kB\u001b[0m \u001b[31m5.9 MB/s\u001b[0m eta \u001b[36m0:00:00\u001b[0m\n",
            "\u001b[?25hRequirement already satisfied: tqdm>=4.41.0 in /usr/local/lib/python3.9/dist-packages (from roboflow) (4.65.0)\n",
            "Requirement already satisfied: Pillow>=7.1.2 in /usr/local/lib/python3.9/dist-packages (from roboflow) (8.4.0)\n",
            "Requirement already satisfied: urllib3>=1.26.6 in /usr/local/lib/python3.9/dist-packages (from roboflow) (1.26.15)\n",
            "Requirement already satisfied: opencv-python>=4.1.2 in /usr/local/lib/python3.9/dist-packages (from roboflow) (4.7.0.72)\n",
            "Collecting cycler==0.10.0\n",
            "  Downloading cycler-0.10.0-py2.py3-none-any.whl (6.5 kB)\n",
            "Requirement already satisfied: chardet==4.0.0 in /usr/local/lib/python3.9/dist-packages (from roboflow) (4.0.0)\n",
            "Collecting idna==2.10\n",
            "  Downloading idna-2.10-py2.py3-none-any.whl (58 kB)\n",
            "\u001b[2K     \u001b[90m━━━━━━━━━━━━━━━━━━━━━━━━━━━━━━━━━━━━━━━━\u001b[0m \u001b[32m58.8/58.8 kB\u001b[0m \u001b[31m6.2 MB/s\u001b[0m eta \u001b[36m0:00:00\u001b[0m\n",
            "\u001b[?25hRequirement already satisfied: matplotlib in /usr/local/lib/python3.9/dist-packages (from roboflow) (3.7.1)\n",
            "Requirement already satisfied: kiwisolver>=1.3.1 in /usr/local/lib/python3.9/dist-packages (from roboflow) (1.4.4)\n",
            "Requirement already satisfied: requests in /usr/local/lib/python3.9/dist-packages (from roboflow) (2.27.1)\n",
            "Requirement already satisfied: packaging>=20.0 in /usr/local/lib/python3.9/dist-packages (from matplotlib->roboflow) (23.0)\n",
            "Requirement already satisfied: importlib-resources>=3.2.0 in /usr/local/lib/python3.9/dist-packages (from matplotlib->roboflow) (5.12.0)\n",
            "Requirement already satisfied: fonttools>=4.22.0 in /usr/local/lib/python3.9/dist-packages (from matplotlib->roboflow) (4.39.3)\n",
            "Requirement already satisfied: contourpy>=1.0.1 in /usr/local/lib/python3.9/dist-packages (from matplotlib->roboflow) (1.0.7)\n",
            "Requirement already satisfied: charset-normalizer~=2.0.0 in /usr/local/lib/python3.9/dist-packages (from requests->roboflow) (2.0.12)\n",
            "Requirement already satisfied: zipp>=3.1.0 in /usr/local/lib/python3.9/dist-packages (from importlib-resources>=3.2.0->matplotlib->roboflow) (3.15.0)\n",
            "Building wheels for collected packages: wget\n",
            "  Building wheel for wget (setup.py) ... \u001b[?25l\u001b[?25hdone\n",
            "  Created wheel for wget: filename=wget-3.2-py3-none-any.whl size=9676 sha256=0104e139e8d79c55ffa3b6bad1a233c55309b4a2b2cc829e33302b907d98f4f1\n",
            "  Stored in directory: /root/.cache/pip/wheels/04/5f/3e/46cc37c5d698415694d83f607f833f83f0149e49b3af9d0f38\n",
            "Successfully built wget\n",
            "Installing collected packages: wget, python-dotenv, pyparsing, idna, cycler, requests-toolbelt, roboflow\n",
            "  Attempting uninstall: pyparsing\n",
            "    Found existing installation: pyparsing 3.0.9\n",
            "    Uninstalling pyparsing-3.0.9:\n",
            "      Successfully uninstalled pyparsing-3.0.9\n",
            "  Attempting uninstall: idna\n",
            "    Found existing installation: idna 3.4\n",
            "    Uninstalling idna-3.4:\n",
            "      Successfully uninstalled idna-3.4\n",
            "  Attempting uninstall: cycler\n",
            "    Found existing installation: cycler 0.11.0\n",
            "    Uninstalling cycler-0.11.0:\n",
            "      Successfully uninstalled cycler-0.11.0\n",
            "Successfully installed cycler-0.10.0 idna-2.10 pyparsing-2.4.7 python-dotenv-1.0.0 requests-toolbelt-0.10.1 roboflow-1.0.3 wget-3.2\n"
          ]
        },
        {
          "output_type": "display_data",
          "data": {
            "application/vnd.colab-display-data+json": {
              "pip_warning": {
                "packages": [
                  "cycler",
                  "pyparsing"
                ]
              }
            }
          },
          "metadata": {}
        }
      ]
    },
    {
      "cell_type": "code",
      "execution_count": 2,
      "metadata": {
        "id": "k_FjLmdcO6GK"
      },
      "outputs": [],
      "source": [
        "from ultralytics import YOLO\n",
        "import numpy as np\n",
        "from PIL import Image\n",
        "from io import BytesIO\n",
        "import cv2"
      ]
    },
    {
      "cell_type": "code",
      "execution_count": 3,
      "metadata": {
        "colab": {
          "base_uri": "https://localhost:8080/"
        },
        "id": "NtyZZEd7O6GN",
        "outputId": "ef33e9d6-23b8-49c9-ad58-b4c0f6a6fcad"
      },
      "outputs": [
        {
          "output_type": "stream",
          "name": "stderr",
          "text": [
            "Downloading https://github.com/ultralytics/assets/releases/download/v0.0.0/yolov8n.pt to yolov8n.pt...\n",
            "100%|██████████| 6.23M/6.23M [00:00<00:00, 85.1MB/s]\n"
          ]
        }
      ],
      "source": [
        "model = YOLO('yolov8n.pt')"
      ]
    },
    {
      "cell_type": "code",
      "execution_count": 4,
      "metadata": {
        "colab": {
          "base_uri": "https://localhost:8080/"
        },
        "id": "vyuTMUObO6GN",
        "outputId": "c255b518-cec2-41cd-c6dc-3b1dd76d7ac2"
      },
      "outputs": [
        {
          "output_type": "stream",
          "name": "stdout",
          "text": [
            "loading Roboflow workspace...\n",
            "loading Roboflow project...\n",
            "Dependency ultralytics<=8.0.20 is required but found version=8.0.73, to fix: `pip install ultralytics<=8.0.20`\n",
            "Downloading Dataset Version Zip in coco-and-birds-20220125-1 to yolov8: 99% [222642176 / 223504981] bytes"
          ]
        },
        {
          "output_type": "stream",
          "name": "stderr",
          "text": [
            "Extracting Dataset Version Zip to coco-and-birds-20220125-1 in yolov8:: 100%|██████████| 15532/15532 [00:04<00:00, 3540.18it/s]\n"
          ]
        }
      ],
      "source": [
        "from roboflow import Roboflow\n",
        "import os\n",
        "\n",
        "rf = Roboflow(api_key=os.getenv(\"APIKEY\"))\n",
        "project = rf.workspace(\"dubhe\").project(\"coco-and-birds-20220125\")\n",
        "dataset = project.version(1).download(\"yolov8\")\n"
      ]
    },
    {
      "cell_type": "code",
      "execution_count": 5,
      "metadata": {
        "colab": {
          "base_uri": "https://localhost:8080/",
          "height": 35
        },
        "id": "ZbIKEe4OO6GP",
        "outputId": "4ae10c34-aebe-49da-94a4-ea9474fb4f93"
      },
      "outputs": [
        {
          "output_type": "execute_result",
          "data": {
            "text/plain": [
              "'/content'"
            ],
            "application/vnd.google.colaboratory.intrinsic+json": {
              "type": "string"
            }
          },
          "metadata": {},
          "execution_count": 5
        }
      ],
      "source": [
        "os.getcwd()"
      ]
    },
    {
      "cell_type": "code",
      "execution_count": 7,
      "metadata": {
        "colab": {
          "base_uri": "https://localhost:8080/"
        },
        "id": "FMHUlJrFO6GP",
        "outputId": "3dc744f5-7ac5-414c-cddb-2fdc8a3ece55"
      },
      "outputs": [
        {
          "output_type": "stream",
          "name": "stderr",
          "text": [
            "Ultralytics YOLOv8.0.73 🚀 Python-3.9.16 torch-2.0.0+cu118 CUDA:0 (Tesla T4, 15102MiB)\n",
            "\u001b[34m\u001b[1myolo/engine/trainer: \u001b[0mtask=detect, mode=train, model=yolov8n.pt, data=/content/coco-and-birds-20220125-1/data.yaml, epochs=100, patience=5, batch=16, imgsz=640, save=True, save_period=-1, cache=False, device=None, workers=8, project=None, name=None, exist_ok=False, pretrained=False, optimizer=SGD, verbose=True, seed=0, deterministic=True, single_cls=False, image_weights=False, rect=False, cos_lr=False, close_mosaic=0, resume=False, amp=True, overlap_mask=True, mask_ratio=4, dropout=0.0, val=True, split=val, save_json=False, save_hybrid=False, conf=None, iou=0.7, max_det=300, half=False, dnn=False, plots=True, source=None, show=False, save_txt=False, save_conf=False, save_crop=False, show_labels=True, show_conf=True, vid_stride=1, line_thickness=3, visualize=False, augment=False, agnostic_nms=False, classes=None, retina_masks=False, boxes=True, format=torchscript, keras=False, optimize=False, int8=False, dynamic=False, simplify=False, opset=None, workspace=4, nms=False, lr0=0.01, lrf=0.01, momentum=0.937, weight_decay=0.0005, warmup_epochs=3.0, warmup_momentum=0.8, warmup_bias_lr=0.1, box=7.5, cls=0.5, dfl=1.5, pose=12.0, kobj=1.0, label_smoothing=0.0, nbs=64, hsv_h=0.015, hsv_s=0.7, hsv_v=0.4, degrees=0.0, translate=0.1, scale=0.5, shear=0.0, perspective=0.0, flipud=0.0, fliplr=0.5, mosaic=1.0, mixup=0.0, copy_paste=0.0, cfg=None, v5loader=False, tracker=botsort.yaml, save_dir=runs/detect/train2\n",
            "\n",
            "                   from  n    params  module                                       arguments                     \n",
            "  0                  -1  1       464  ultralytics.nn.modules.Conv                  [3, 16, 3, 2]                 \n",
            "  1                  -1  1      4672  ultralytics.nn.modules.Conv                  [16, 32, 3, 2]                \n",
            "  2                  -1  1      7360  ultralytics.nn.modules.C2f                   [32, 32, 1, True]             \n",
            "  3                  -1  1     18560  ultralytics.nn.modules.Conv                  [32, 64, 3, 2]                \n",
            "  4                  -1  2     49664  ultralytics.nn.modules.C2f                   [64, 64, 2, True]             \n",
            "  5                  -1  1     73984  ultralytics.nn.modules.Conv                  [64, 128, 3, 2]               \n",
            "  6                  -1  2    197632  ultralytics.nn.modules.C2f                   [128, 128, 2, True]           \n",
            "  7                  -1  1    295424  ultralytics.nn.modules.Conv                  [128, 256, 3, 2]              \n",
            "  8                  -1  1    460288  ultralytics.nn.modules.C2f                   [256, 256, 1, True]           \n",
            "  9                  -1  1    164608  ultralytics.nn.modules.SPPF                  [256, 256, 5]                 \n",
            " 10                  -1  1         0  torch.nn.modules.upsampling.Upsample         [None, 2, 'nearest']          \n",
            " 11             [-1, 6]  1         0  ultralytics.nn.modules.Concat                [1]                           \n",
            " 12                  -1  1    148224  ultralytics.nn.modules.C2f                   [384, 128, 1]                 \n",
            " 13                  -1  1         0  torch.nn.modules.upsampling.Upsample         [None, 2, 'nearest']          \n",
            " 14             [-1, 4]  1         0  ultralytics.nn.modules.Concat                [1]                           \n",
            " 15                  -1  1     37248  ultralytics.nn.modules.C2f                   [192, 64, 1]                  \n",
            " 16                  -1  1     36992  ultralytics.nn.modules.Conv                  [64, 64, 3, 2]                \n",
            " 17            [-1, 12]  1         0  ultralytics.nn.modules.Concat                [1]                           \n",
            " 18                  -1  1    123648  ultralytics.nn.modules.C2f                   [192, 128, 1]                 \n",
            " 19                  -1  1    147712  ultralytics.nn.modules.Conv                  [128, 128, 3, 2]              \n",
            " 20             [-1, 9]  1         0  ultralytics.nn.modules.Concat                [1]                           \n",
            " 21                  -1  1    493056  ultralytics.nn.modules.C2f                   [384, 256, 1]                 \n",
            " 22        [15, 18, 21]  1    924475  ultralytics.nn.modules.Detect                [83, [64, 128, 256]]          \n",
            "Model summary: 225 layers, 3184011 parameters, 3183995 gradients, 9.0 GFLOPs\n",
            "\n",
            "Transferred 355/355 items from pretrained weights\n",
            "\u001b[34m\u001b[1mTensorBoard: \u001b[0mStart with 'tensorboard --logdir runs/detect/train2', view at http://localhost:6006/\n",
            "\u001b[34m\u001b[1mAMP: \u001b[0mrunning Automatic Mixed Precision (AMP) checks with YOLOv8n...\n",
            "\u001b[34m\u001b[1mAMP: \u001b[0mchecks passed ✅\n",
            "\u001b[34m\u001b[1moptimizer:\u001b[0m SGD(lr=0.01) with parameter groups 57 weight(decay=0.0), 64 weight(decay=0.0005), 63 bias\n",
            "\u001b[34m\u001b[1mtrain: \u001b[0mScanning /content/coco-and-birds-20220125-1/train/labels.cache... 5445 images, 2 backgrounds, 0 corrupt: 100%|██████████| 5445/5445 [00:00<?, ?it/s]\n",
            "\u001b[34m\u001b[1malbumentations: \u001b[0mBlur(p=0.01, blur_limit=(3, 7)), MedianBlur(p=0.01, blur_limit=(3, 7)), ToGray(p=0.01), CLAHE(p=0.01, clip_limit=(1, 4.0), tile_grid_size=(8, 8))\n",
            "\u001b[34m\u001b[1mval: \u001b[0mScanning /content/coco-and-birds-20220125-1/valid/labels.cache... 1542 images, 0 backgrounds, 0 corrupt: 100%|██████████| 1542/1542 [00:00<?, ?it/s]\n",
            "Plotting labels to runs/detect/train2/labels.jpg... \n",
            "Image sizes 640 train, 640 val\n",
            "Using 2 dataloader workers\n",
            "Logging results to \u001b[1mruns/detect/train2\u001b[0m\n",
            "Starting training for 100 epochs...\n",
            "\n",
            "      Epoch    GPU_mem   box_loss   cls_loss   dfl_loss  Instances       Size\n",
            "      1/100      5.32G       1.56       2.61      1.496         74        640: 100%|██████████| 341/341 [02:52<00:00,  1.98it/s]\n",
            "                 Class     Images  Instances      Box(P          R      mAP50  mAP50-95): 100%|██████████| 49/49 [00:19<00:00,  2.46it/s]\n",
            "                   all       1542      11035      0.228      0.188       0.14     0.0825\n",
            "\n",
            "      Epoch    GPU_mem   box_loss   cls_loss   dfl_loss  Instances       Size\n",
            "      2/100      5.05G      1.509      2.425      1.455         38        640: 100%|██████████| 341/341 [02:46<00:00,  2.05it/s]\n",
            "                 Class     Images  Instances      Box(P          R      mAP50  mAP50-95): 100%|██████████| 49/49 [00:20<00:00,  2.37it/s]\n",
            "                   all       1542      11035      0.337      0.172      0.149     0.0874\n",
            "\n",
            "      Epoch    GPU_mem   box_loss   cls_loss   dfl_loss  Instances       Size\n",
            "      3/100      4.73G      1.518       2.43      1.457        108        640: 100%|██████████| 341/341 [02:44<00:00,  2.07it/s]\n",
            "                 Class     Images  Instances      Box(P          R      mAP50  mAP50-95): 100%|██████████| 49/49 [00:21<00:00,  2.32it/s]\n",
            "                   all       1542      11035      0.213      0.146      0.104     0.0569\n",
            "\n",
            "      Epoch    GPU_mem   box_loss   cls_loss   dfl_loss  Instances       Size\n",
            "      4/100      4.11G      1.567      2.545      1.492         39        640: 100%|██████████| 341/341 [02:45<00:00,  2.06it/s]\n",
            "                 Class     Images  Instances      Box(P          R      mAP50  mAP50-95): 100%|██████████| 49/49 [00:21<00:00,  2.33it/s]\n",
            "                   all       1542      11035      0.344      0.139      0.114     0.0654\n",
            "\n",
            "      Epoch    GPU_mem   box_loss   cls_loss   dfl_loss  Instances       Size\n",
            "      5/100      4.24G      1.573      2.517        1.5         63        640: 100%|██████████| 341/341 [02:48<00:00,  2.03it/s]\n",
            "                 Class     Images  Instances      Box(P          R      mAP50  mAP50-95): 100%|██████████| 49/49 [00:21<00:00,  2.29it/s]\n",
            "                   all       1542      11035      0.211      0.149      0.104     0.0569\n",
            "\n",
            "      Epoch    GPU_mem   box_loss   cls_loss   dfl_loss  Instances       Size\n",
            "      6/100      4.85G      1.578      2.495      1.511         43        640: 100%|██████████| 341/341 [02:44<00:00,  2.07it/s]\n",
            "                 Class     Images  Instances      Box(P          R      mAP50  mAP50-95): 100%|██████████| 49/49 [00:20<00:00,  2.34it/s]\n",
            "                   all       1542      11035      0.255      0.137      0.109     0.0609\n",
            "\n",
            "      Epoch    GPU_mem   box_loss   cls_loss   dfl_loss  Instances       Size\n",
            "      7/100      4.41G      1.565      2.452      1.507         59        640: 100%|██████████| 341/341 [02:43<00:00,  2.09it/s]\n",
            "                 Class     Images  Instances      Box(P          R      mAP50  mAP50-95): 100%|██████████| 49/49 [00:30<00:00,  1.63it/s]\n",
            "                   all       1542      11035      0.214      0.167      0.125     0.0702\n",
            "Stopping training early as no improvement observed in last 5 epochs. Best results observed at epoch 2, best model saved as best.pt.\n",
            "To update EarlyStopping(patience=5) pass a new patience value, i.e. `patience=300` or use `patience=0` to disable EarlyStopping.\n",
            "\n",
            "7 epochs completed in 0.370 hours.\n",
            "Optimizer stripped from runs/detect/train2/weights/last.pt, 6.6MB\n",
            "Optimizer stripped from runs/detect/train2/weights/best.pt, 6.6MB\n",
            "\n",
            "Validating runs/detect/train2/weights/best.pt...\n",
            "Ultralytics YOLOv8.0.73 🚀 Python-3.9.16 torch-2.0.0+cu118 CUDA:0 (Tesla T4, 15102MiB)\n",
            "Model summary (fused): 168 layers, 3178697 parameters, 0 gradients, 8.9 GFLOPs\n",
            "                 Class     Images  Instances      Box(P          R      mAP50  mAP50-95): 100%|██████████| 49/49 [00:26<00:00,  1.82it/s]\n",
            "                   all       1542      11035      0.337      0.172      0.149     0.0875\n",
            "             Insulator       1542         58          0          0          0          0\n",
            "              airplane       1542         30      0.445      0.241      0.238      0.147\n",
            "                 apple       1542         37      0.059     0.0541     0.0126    0.00667\n",
            "              backpack       1542         90      0.499     0.0111     0.0142    0.00325\n",
            "                banana       1542        101       0.11     0.0269     0.0252     0.0143\n",
            "          baseball bat       1542         41      0.268     0.0196     0.0559     0.0294\n",
            "        baseball glove       1542         34      0.257      0.296      0.219      0.124\n",
            "                  bear       1542         12      0.497      0.417       0.32      0.258\n",
            "                   bed       1542         28      0.538      0.179      0.189     0.0739\n",
            "                 bench       1542         78      0.282     0.0769     0.0532     0.0289\n",
            "               bicycle       1542         76      0.134     0.0132     0.0367     0.0152\n",
            "                  bird       1542       3540      0.451      0.822      0.719      0.387\n",
            "                  boat       1542        111      0.305      0.143      0.128     0.0561\n",
            "                  book       1542        263      0.132     0.0494     0.0339     0.0109\n",
            "                bottle       1542        123      0.136      0.252      0.119     0.0611\n",
            "                  bowl       1542        158      0.318       0.21      0.175      0.114\n",
            "              broccoli       1542         45      0.115      0.422       0.21     0.0987\n",
            "                   bus       1542         74      0.468      0.378      0.361      0.261\n",
            "                  cake       1542         51          0          0     0.0241     0.0123\n",
            "                   car       1542        336       0.41      0.366      0.318      0.157\n",
            "                carrot       1542         89      0.121     0.0112     0.0341     0.0169\n",
            "                   cat       1542         38      0.362      0.195      0.223      0.128\n",
            "            cell phone       1542         45      0.197     0.0667     0.0488      0.033\n",
            "                 chair       1542        440      0.175     0.0818     0.0539      0.023\n",
            "                 clock       1542         57      0.297      0.439      0.325      0.189\n",
            "                 couch       1542         68      0.852     0.0588      0.225       0.12\n",
            "                   cow       1542         87      0.178      0.184      0.134     0.0841\n",
            "                   cup       1542        184      0.164      0.125     0.0869     0.0459\n",
            "          dining table       1542        147      0.268      0.274      0.146     0.0818\n",
            "                   dog       1542         43      0.505      0.186      0.224      0.131\n",
            "                 donut       1542         85      0.121     0.0353     0.0642     0.0403\n",
            "              elephant       1542         43        0.2      0.395      0.203      0.106\n",
            "          fire hydrant       1542         16      0.221      0.438      0.344      0.197\n",
            "                  fork       1542         42       0.15     0.0952     0.0545     0.0238\n",
            "               frisbee       1542         20      0.255        0.1      0.104     0.0724\n",
            "               giraffe       1542         45      0.412      0.556      0.481      0.276\n",
            "            hair drier       1542          1          0          0          0          0\n",
            "               handbag       1542        112      0.122    0.00434     0.0158      0.009\n",
            "                 horse       1542         65      0.344      0.385      0.348      0.237\n",
            "               hot dog       1542         25          1          0     0.0118    0.00546\n",
            "             insulator       1542         67          1          0     0.0164    0.00727\n",
            "              keyboard       1542         22      0.203      0.209       0.22      0.151\n",
            "                  kite       1542         73          0          0     0.0182       0.01\n",
            "                 knife       1542         51      0.121     0.0196    0.00946    0.00673\n",
            "                laptop       1542         53      0.148      0.151      0.128     0.0952\n",
            "             microwave       1542         11          1          0     0.0455     0.0359\n",
            "            motorcycle       1542         52      0.205      0.308      0.241      0.108\n",
            "                 mouse       1542         15          1          0      0.162      0.133\n",
            "                  nest       1542          2          0          0          0          0\n",
            "                orange       1542         31      0.042     0.0968     0.0124    0.00907\n",
            "                  oven       1542         29      0.136      0.172      0.144     0.0882\n",
            "         parking meter       1542         10          1          0     0.0113    0.00995\n",
            "                person       1542       2165      0.413      0.529      0.482       0.26\n",
            "                 pizza       1542         44      0.171      0.455      0.202      0.123\n",
            "          potted plant       1542         74      0.106      0.108     0.0665     0.0313\n",
            "          refrigerator       1542         24      0.145      0.417      0.262      0.162\n",
            "                remote       1542         71      0.246     0.0415     0.0368      0.024\n",
            "              sandwich       1542         51      0.197     0.0784     0.0861     0.0463\n",
            "              scissors       1542         12          1          0          0          0\n",
            "                 sheep       1542         54      0.333       0.13      0.212      0.137\n",
            "                  sink       1542         44        0.2      0.148      0.107     0.0695\n",
            "            skateboard       1542         29      0.663     0.0682      0.165     0.0763\n",
            "                  skis       1542         63          1          0     0.0421     0.0132\n",
            "             snowboard       1542         16          1          0    0.00367    0.00151\n",
            "                 spoon       1542         56          1          0    0.00828     0.0041\n",
            "           sports ball       1542         55      0.569      0.218      0.232      0.142\n",
            "             stop sign       1542          9     0.0817      0.333      0.217      0.208\n",
            "              suitcase       1542         64          1          0     0.0394     0.0208\n",
            "             surfboard       1542         62      0.126     0.0161     0.0282     0.0112\n",
            "            teddy bear       1542         40      0.313      0.175      0.147     0.0719\n",
            "         tennis racket       1542         36     0.0869      0.111     0.0712     0.0319\n",
            "                   tie       1542         33      0.133      0.121     0.0846     0.0328\n",
            "               toaster       1542          5          0          0          0          0\n",
            "                toilet       1542         38       0.36      0.421      0.408      0.277\n",
            "            toothbrush       1542          6          0          0          0          0\n",
            "         traffic light       1542        180      0.342     0.0833      0.104     0.0501\n",
            "                 train       1542         34      0.426      0.559      0.497      0.258\n",
            "                 truck       1542         67      0.167      0.239      0.134     0.0814\n",
            "                    tv       1542         47      0.322      0.532      0.467      0.334\n",
            "              umbrella       1542        127      0.429      0.126      0.143     0.0728\n",
            "                  vase       1542         59      0.454     0.0431     0.0544     0.0372\n",
            "            wine glass       1542         83      0.129      0.012     0.0206    0.00795\n",
            "                 zebra       1542         33      0.329      0.727      0.672      0.343\n",
            "Speed: 0.8ms preprocess, 2.4ms inference, 0.0ms loss, 2.3ms postprocess per image\n",
            "Results saved to \u001b[1mruns/detect/train2\u001b[0m\n"
          ]
        }
      ],
      "source": [
        "model.train(data=os.getcwd()+'/coco-and-birds-20220125-1/data.yaml', epochs=100, imgsz=640,patience=5)"
      ]
    },
    {
      "cell_type": "code",
      "source": [
        "model.val()"
      ],
      "metadata": {
        "colab": {
          "base_uri": "https://localhost:8080/"
        },
        "id": "RBmx64EfWzdu",
        "outputId": "13cae2b4-9e18-43d1-b8e6-01bc8abec7b2"
      },
      "execution_count": 10,
      "outputs": [
        {
          "output_type": "stream",
          "name": "stderr",
          "text": [
            "Ultralytics YOLOv8.0.73 🚀 Python-3.9.16 torch-2.0.0+cu118 CUDA:0 (Tesla T4, 15102MiB)\n",
            "Model summary (fused): 168 layers, 3178697 parameters, 0 gradients, 8.9 GFLOPs\n",
            "\u001b[34m\u001b[1mval: \u001b[0mScanning /content/coco-and-birds-20220125-1/valid/labels.cache... 1542 images, 0 backgrounds, 0 corrupt: 100%|██████████| 1542/1542 [00:00<?, ?it/s]\n",
            "                 Class     Images  Instances      Box(P          R      mAP50  mAP50-95): 100%|██████████| 97/97 [00:29<00:00,  3.33it/s]\n",
            "                   all       1542      11035      0.338      0.171      0.149     0.0874\n",
            "             Insulator       1542         58          0          0          0          0\n",
            "              airplane       1542         30      0.443      0.239      0.237      0.146\n",
            "                 apple       1542         37     0.0591     0.0541     0.0126    0.00686\n",
            "              backpack       1542         90      0.499     0.0111     0.0141    0.00319\n",
            "                banana       1542        101      0.101     0.0246     0.0252     0.0142\n",
            "          baseball bat       1542         41      0.266     0.0194      0.056     0.0286\n",
            "        baseball glove       1542         34      0.257      0.294      0.209      0.121\n",
            "                  bear       1542         12      0.503      0.417       0.32      0.258\n",
            "                   bed       1542         28      0.539      0.179      0.186      0.075\n",
            "                 bench       1542         78      0.282     0.0769     0.0533     0.0288\n",
            "               bicycle       1542         76      0.136     0.0132     0.0407     0.0157\n",
            "                  bird       1542       3540      0.454      0.821      0.719      0.387\n",
            "                  boat       1542        111      0.307       0.14      0.129     0.0567\n",
            "                  book       1542        263      0.133     0.0494     0.0337     0.0108\n",
            "                bottle       1542        123      0.137      0.252      0.119     0.0625\n",
            "                  bowl       1542        158      0.318      0.209      0.175      0.114\n",
            "              broccoli       1542         45      0.116      0.422      0.208     0.0969\n",
            "                   bus       1542         74      0.472      0.378      0.359      0.259\n",
            "                  cake       1542         51          0          0     0.0242     0.0123\n",
            "                   car       1542        336      0.414      0.366      0.318      0.157\n",
            "                carrot       1542         89      0.121     0.0112     0.0342      0.017\n",
            "                   cat       1542         38      0.361      0.193      0.223      0.128\n",
            "            cell phone       1542         45      0.198     0.0667     0.0488      0.033\n",
            "                 chair       1542        440      0.172     0.0795     0.0538     0.0229\n",
            "                 clock       1542         57      0.299      0.439      0.325      0.187\n",
            "                 couch       1542         68      0.858     0.0588      0.225       0.12\n",
            "                   cow       1542         87      0.178      0.184      0.134     0.0842\n",
            "                   cup       1542        184      0.164      0.125     0.0869     0.0458\n",
            "          dining table       1542        147      0.268      0.274      0.146     0.0817\n",
            "                   dog       1542         43      0.518      0.186      0.223      0.131\n",
            "                 donut       1542         85      0.122     0.0353     0.0643     0.0408\n",
            "              elephant       1542         43      0.206      0.395      0.201      0.105\n",
            "          fire hydrant       1542         16      0.221      0.438      0.344      0.197\n",
            "                  fork       1542         42      0.172      0.109     0.0543     0.0238\n",
            "               frisbee       1542         20      0.259        0.1      0.103     0.0707\n",
            "               giraffe       1542         45       0.42      0.556      0.477      0.277\n",
            "            hair drier       1542          1          0          0          0          0\n",
            "               handbag       1542        112      0.117    0.00419     0.0158    0.00899\n",
            "                 horse       1542         65      0.346      0.385      0.348      0.237\n",
            "               hot dog       1542         25          1          0     0.0117    0.00543\n",
            "             insulator       1542         67          1          0     0.0165     0.0072\n",
            "              keyboard       1542         22      0.202      0.207       0.22       0.15\n",
            "                  kite       1542         73          0          0     0.0179    0.00993\n",
            "                 knife       1542         51      0.122     0.0196    0.00945     0.0068\n",
            "                laptop       1542         53       0.15      0.151      0.128     0.0952\n",
            "             microwave       1542         11          1          0     0.0454     0.0359\n",
            "            motorcycle       1542         52      0.205      0.308       0.24      0.108\n",
            "                 mouse       1542         15          1          0      0.162      0.133\n",
            "                  nest       1542          2          0          0          0          0\n",
            "                orange       1542         31     0.0421     0.0968     0.0125    0.00896\n",
            "                  oven       1542         29      0.137      0.172      0.144     0.0871\n",
            "         parking meter       1542         10          1          0     0.0113    0.00994\n",
            "                person       1542       2165      0.417      0.527      0.482      0.261\n",
            "                 pizza       1542         44      0.171      0.455      0.203      0.123\n",
            "          potted plant       1542         74      0.106      0.108     0.0664     0.0313\n",
            "          refrigerator       1542         24      0.148      0.417      0.262      0.163\n",
            "                remote       1542         71      0.242     0.0406     0.0373     0.0225\n",
            "              sandwich       1542         51      0.198     0.0784      0.086     0.0464\n",
            "              scissors       1542         12          1          0          0          0\n",
            "                 sheep       1542         54      0.311      0.117      0.211      0.137\n",
            "                  sink       1542         44      0.198      0.146      0.107     0.0692\n",
            "            skateboard       1542         29      0.659     0.0674      0.165     0.0765\n",
            "                  skis       1542         63          1          0     0.0436     0.0133\n",
            "             snowboard       1542         16          1          0    0.00369    0.00131\n",
            "                 spoon       1542         56          1          0    0.00563    0.00357\n",
            "           sports ball       1542         55      0.599      0.217      0.233      0.144\n",
            "             stop sign       1542          9     0.0826      0.333      0.217      0.208\n",
            "              suitcase       1542         64          1          0      0.039     0.0206\n",
            "             surfboard       1542         62      0.127     0.0161      0.028     0.0112\n",
            "            teddy bear       1542         40      0.314      0.175      0.147      0.075\n",
            "         tennis racket       1542         36     0.0876      0.111     0.0711     0.0345\n",
            "                   tie       1542         33      0.134      0.121     0.0844     0.0333\n",
            "               toaster       1542          5          0          0          0          0\n",
            "                toilet       1542         38      0.361      0.421      0.409      0.278\n",
            "            toothbrush       1542          6          0          0          0          0\n",
            "         traffic light       1542        180      0.354     0.0822     0.0998     0.0518\n",
            "                 train       1542         34      0.429      0.559       0.49      0.258\n",
            "                 truck       1542         67      0.168      0.239      0.134     0.0818\n",
            "                    tv       1542         47      0.324      0.532      0.465      0.332\n",
            "              umbrella       1542        127      0.442      0.126      0.145     0.0733\n",
            "                  vase       1542         59      0.451     0.0425     0.0544     0.0364\n",
            "            wine glass       1542         83      0.135      0.012     0.0206    0.00789\n",
            "                 zebra       1542         33       0.33      0.727      0.671      0.342\n",
            "Speed: 0.9ms preprocess, 4.4ms inference, 0.0ms loss, 2.4ms postprocess per image\n",
            "Results saved to \u001b[1mruns/detect/val\u001b[0m\n"
          ]
        },
        {
          "output_type": "execute_result",
          "data": {
            "text/plain": [
              "ultralytics.yolo.utils.metrics.DetMetrics object with attributes:\n",
              "\n",
              "ap_class_index: array([ 0,  1,  2,  3,  4,  5,  6,  7,  8,  9, 10, 11, 12, 13, 14, 15, 16, 17, 18, 19, 20, 21, 22, 23, 24, 25, 26, 27, 28, 29, 30, 31, 32, 33, 34, 35, 36, 37, 38, 39, 40, 41, 42, 43, 44, 45, 46, 47, 48, 49, 50, 51, 52, 53, 54, 55, 56, 57, 58, 59, 60, 61, 62, 63, 64, 65, 66, 67, 68, 69, 70, 71, 72, 73, 74, 75, 76, 77,\n",
              "       78, 79, 80, 81, 82])\n",
              "box: ultralytics.yolo.utils.metrics.Metric object\n",
              "confusion_matrix: <ultralytics.yolo.utils.metrics.ConfusionMatrix object at 0x7f772f2aa9a0>\n",
              "fitness: 0.09357551671184307\n",
              "keys: ['metrics/precision(B)', 'metrics/recall(B)', 'metrics/mAP50(B)', 'metrics/mAP50-95(B)']\n",
              "maps: array([          0,     0.14645,   0.0068633,   0.0031921,    0.014236,    0.028561,     0.12094,     0.25789,    0.075035,    0.028805,    0.015693,     0.38709,    0.056658,    0.010791,    0.062455,     0.11428,    0.096935,     0.25935,    0.012261,     0.15713,    0.017042,     0.12819,    0.032998,    0.022908,\n",
              "           0.18705,     0.12034,    0.084224,    0.045781,    0.081682,     0.13071,    0.040783,     0.10521,     0.19676,    0.023753,    0.070685,      0.2769,           0,   0.0089889,     0.23684,   0.0054319,   0.0071985,        0.15,   0.0099262,   0.0068021,    0.095196,    0.035863,     0.10785,     0.13349,\n",
              "                 0,   0.0089571,    0.087119,    0.009943,     0.26105,     0.12274,    0.031281,     0.16272,    0.022506,    0.046388,           0,     0.13668,     0.06923,     0.07648,    0.013334,   0.0013111,   0.0035678,     0.14365,     0.20808,    0.020582,    0.011167,    0.075039,    0.034511,    0.033314,\n",
              "                 0,     0.27757,           0,    0.051762,     0.25783,    0.081847,     0.33234,    0.073347,    0.036425,   0.0078894,     0.34215])\n",
              "names: {0: 'Insulator', 1: 'airplane', 2: 'apple', 3: 'backpack', 4: 'banana', 5: 'baseball bat', 6: 'baseball glove', 7: 'bear', 8: 'bed', 9: 'bench', 10: 'bicycle', 11: 'bird', 12: 'boat', 13: 'book', 14: 'bottle', 15: 'bowl', 16: 'broccoli', 17: 'bus', 18: 'cake', 19: 'car', 20: 'carrot', 21: 'cat', 22: 'cell phone', 23: 'chair', 24: 'clock', 25: 'couch', 26: 'cow', 27: 'cup', 28: 'dining table', 29: 'dog', 30: 'donut', 31: 'elephant', 32: 'fire hydrant', 33: 'fork', 34: 'frisbee', 35: 'giraffe', 36: 'hair drier', 37: 'handbag', 38: 'horse', 39: 'hot dog', 40: 'insulator', 41: 'keyboard', 42: 'kite', 43: 'knife', 44: 'laptop', 45: 'microwave', 46: 'motorcycle', 47: 'mouse', 48: 'nest', 49: 'orange', 50: 'oven', 51: 'parking meter', 52: 'person', 53: 'pizza', 54: 'potted plant', 55: 'refrigerator', 56: 'remote', 57: 'sandwich', 58: 'scissors', 59: 'sheep', 60: 'sink', 61: 'skateboard', 62: 'skis', 63: 'snowboard', 64: 'spoon', 65: 'sports ball', 66: 'stop sign', 67: 'suitcase', 68: 'surfboard', 69: 'teddy bear', 70: 'tennis racket', 71: 'tie', 72: 'toaster', 73: 'toilet', 74: 'toothbrush', 75: 'traffic light', 76: 'train', 77: 'truck', 78: 'tv', 79: 'umbrella', 80: 'vase', 81: 'wine glass', 82: 'zebra'}\n",
              "plot: True\n",
              "results_dict: {'metrics/precision(B)': 0.3383223869528383, 'metrics/recall(B)': 0.17144991341341168, 'metrics/mAP50(B)': 0.1487418313061067, 'metrics/mAP50-95(B)': 0.08744592620136932, 'fitness': 0.09357551671184307}\n",
              "save_dir: PosixPath('runs/detect/val')\n",
              "speed: {'preprocess': 0.8864648611165207, 'inference': 4.399646580915043, 'loss': 0.0013969597031015676, 'postprocess': 2.407770521755194}"
            ]
          },
          "metadata": {},
          "execution_count": 10
        }
      ]
    },
    {
      "cell_type": "code",
      "source": [
        "model.export()"
      ],
      "metadata": {
        "colab": {
          "base_uri": "https://localhost:8080/",
          "height": 261
        },
        "id": "l_csBCV0S-bi",
        "outputId": "6f123ec0-9f36-4ca2-b3d8-94f3a7606854"
      },
      "execution_count": 9,
      "outputs": [
        {
          "output_type": "stream",
          "name": "stderr",
          "text": [
            "Ultralytics YOLOv8.0.73 🚀 Python-3.9.16 torch-2.0.0+cu118 CPU\n",
            "Model summary (fused): 168 layers, 3178697 parameters, 0 gradients, 8.9 GFLOPs\n",
            "\n",
            "\u001b[34m\u001b[1mPyTorch:\u001b[0m starting from runs/detect/train2/weights/best.pt with input shape (1, 3, 640, 640) BCHW and output shape(s) (1, 87, 8400) (6.3 MB)\n",
            "\n",
            "\u001b[34m\u001b[1mTorchScript:\u001b[0m starting export with torch 2.0.0+cu118...\n",
            "\u001b[34m\u001b[1mTorchScript:\u001b[0m export success ✅ 3.3s, saved as runs/detect/train2/weights/best.torchscript (12.5 MB)\n",
            "\n",
            "Export complete (3.9s)\n",
            "Results saved to \u001b[1m/content/runs/detect/train2/weights\u001b[0m\n",
            "Predict:         yolo predict task=detect model=runs/detect/train2/weights/best.torchscript imgsz=640 \n",
            "Validate:        yolo val task=detect model=runs/detect/train2/weights/best.torchscript imgsz=640 data=/content/coco-and-birds-20220125-1/data.yaml \n",
            "Visualize:       https://netron.app\n"
          ]
        },
        {
          "output_type": "execute_result",
          "data": {
            "text/plain": [
              "'runs/detect/train2/weights/best.torchscript'"
            ],
            "application/vnd.google.colaboratory.intrinsic+json": {
              "type": "string"
            }
          },
          "metadata": {},
          "execution_count": 9
        }
      ]
    }
  ],
  "metadata": {
    "kernelspec": {
      "display_name": "yolo",
      "language": "python",
      "name": "python3"
    },
    "language_info": {
      "codemirror_mode": {
        "name": "ipython",
        "version": 3
      },
      "file_extension": ".py",
      "mimetype": "text/x-python",
      "name": "python",
      "nbconvert_exporter": "python",
      "pygments_lexer": "ipython3",
      "version": "3.10.10"
    },
    "orig_nbformat": 4,
    "colab": {
      "provenance": []
    },
    "accelerator": "GPU",
    "gpuClass": "standard"
  },
  "nbformat": 4,
  "nbformat_minor": 0
}